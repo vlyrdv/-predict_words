{
  "nbformat": 4,
  "nbformat_minor": 0,
  "metadata": {
    "colab": {
      "provenance": []
    },
    "kernelspec": {
      "name": "python3",
      "display_name": "Python 3"
    },
    "language_info": {
      "name": "python"
    }
  },
  "cells": [
    {
      "cell_type": "code",
      "execution_count": 1,
      "metadata": {
        "id": "-Pwitb8661bZ"
      },
      "outputs": [],
      "source": [
        "import os\n",
        "os.environ['TF_CPP_MIN_LOG_LEVEL'] = '2'\n",
        "\n",
        "import numpy as np\n",
        "\n",
        "from tensorflow.keras.layers import Dense, SimpleRNN, Input, Embedding\n",
        "from tensorflow.keras.models import Sequential\n",
        "from tensorflow.keras.preprocessing.text import Tokenizer, text_to_word_sequence\n",
        "from tensorflow.keras.utils import to_categorical"
      ]
    },
    {
      "cell_type": "code",
      "source": [
        "with open('text.txt', 'r', encoding='utf-8') as f:\n",
        "    texts = f.read()\n",
        "    texts = texts.replace('\\ufeff', '')  # убираем первый невидимый символ"
      ],
      "metadata": {
        "id": "eSo2RcCZ_BJY"
      },
      "execution_count": 3,
      "outputs": []
    },
    {
      "cell_type": "code",
      "source": [
        "maxWordsCount = 1000\n",
        "tokenizer = Tokenizer(num_words=maxWordsCount, filters='!–\"—#$%&amp;()*+,-./:;<=>?@[\\\\]^_`{|}~\\t\\n\\r«»',\n",
        "                      lower=True, split=' ', char_level=False)\n",
        "tokenizer.fit_on_texts([texts])"
      ],
      "metadata": {
        "id": "puYC31pA_Qig"
      },
      "execution_count": 4,
      "outputs": []
    },
    {
      "cell_type": "code",
      "source": [
        "dist = list(tokenizer.word_counts.items())\n",
        "print(dist[:10])"
      ],
      "metadata": {
        "colab": {
          "base_uri": "https://localhost:8080/"
        },
        "id": "WLUBqpmg_SDH",
        "outputId": "b989ea46-f423-4cc1-9bd3-cb41b060ed0d"
      },
      "execution_count": 6,
      "outputs": [
        {
          "output_type": "stream",
          "name": "stdout",
          "text": [
            "[('я', 21), ('притягиваю', 1), ('только', 21), ('плохое', 1), ('кому', 2), ('нужен', 2), ('с', 12), ('такой', 5), ('внешностью', 2), ('не', 91)]\n"
          ]
        }
      ]
    },
    {
      "cell_type": "code",
      "source": [
        "data = tokenizer.texts_to_sequences([texts])\n",
        "res = np.array( data[0] )"
      ],
      "metadata": {
        "id": "fmGJU2jj_eCt"
      },
      "execution_count": 7,
      "outputs": []
    },
    {
      "cell_type": "code",
      "source": [
        "inp_words = 3\n",
        "n = res.shape[0] - inp_words"
      ],
      "metadata": {
        "id": "IKYO46I3_m-h"
      },
      "execution_count": 8,
      "outputs": []
    },
    {
      "cell_type": "code",
      "source": [
        "X = np.array([res[i:i + inp_words] for i in range(n)])\n",
        "Y = to_categorical(res[inp_words:], num_classes=maxWordsCount)"
      ],
      "metadata": {
        "id": "91KCR2wV_pLl"
      },
      "execution_count": 10,
      "outputs": []
    },
    {
      "cell_type": "code",
      "source": [
        "model = Sequential()\n",
        "model.add(Embedding(maxWordsCount, 256, input_length = inp_words))\n",
        "model.add(SimpleRNN(128, activation='tanh'))\n",
        "model.add(Dense(maxWordsCount, activation='softmax'))\n",
        "model.summary()"
      ],
      "metadata": {
        "colab": {
          "base_uri": "https://localhost:8080/"
        },
        "id": "nOnNGHNA_rsQ",
        "outputId": "3a628ba5-03ea-4e7c-a61b-a68d05e15c5a"
      },
      "execution_count": 9,
      "outputs": [
        {
          "output_type": "stream",
          "name": "stdout",
          "text": [
            "Model: \"sequential\"\n",
            "_________________________________________________________________\n",
            " Layer (type)                Output Shape              Param #   \n",
            "=================================================================\n",
            " embedding (Embedding)       (None, 3, 256)            256000    \n",
            "                                                                 \n",
            " simple_rnn (SimpleRNN)      (None, 128)               49280     \n",
            "                                                                 \n",
            " dense (Dense)               (None, 1000)              129000    \n",
            "                                                                 \n",
            "=================================================================\n",
            "Total params: 434,280\n",
            "Trainable params: 434,280\n",
            "Non-trainable params: 0\n",
            "_________________________________________________________________\n"
          ]
        }
      ]
    },
    {
      "cell_type": "code",
      "source": [
        "model.compile(loss='categorical_crossentropy', metrics=['accuracy'], optimizer='adam')\n",
        "\n",
        "history = model.fit(X, Y, batch_size=32, epochs=50)"
      ],
      "metadata": {
        "colab": {
          "base_uri": "https://localhost:8080/"
        },
        "id": "U73l3AG6_wrP",
        "outputId": "267477db-26f5-4415-b2a7-70903d23f386"
      },
      "execution_count": 11,
      "outputs": [
        {
          "output_type": "stream",
          "name": "stdout",
          "text": [
            "Epoch 1/50\n",
            "52/52 [==============================] - 2s 10ms/step - loss: 6.8544 - accuracy: 0.0355\n",
            "Epoch 2/50\n",
            "52/52 [==============================] - 1s 11ms/step - loss: 6.1887 - accuracy: 0.0559\n",
            "Epoch 3/50\n",
            "52/52 [==============================] - 1s 10ms/step - loss: 5.7683 - accuracy: 0.0817\n",
            "Epoch 4/50\n",
            "52/52 [==============================] - 1s 12ms/step - loss: 5.2657 - accuracy: 0.1262\n",
            "Epoch 5/50\n",
            "52/52 [==============================] - 1s 12ms/step - loss: 4.6191 - accuracy: 0.1971\n",
            "Epoch 6/50\n",
            "52/52 [==============================] - 1s 11ms/step - loss: 3.9349 - accuracy: 0.3191\n",
            "Epoch 7/50\n",
            "52/52 [==============================] - 1s 10ms/step - loss: 3.2809 - accuracy: 0.4489\n",
            "Epoch 8/50\n",
            "52/52 [==============================] - 1s 11ms/step - loss: 2.6965 - accuracy: 0.5769\n",
            "Epoch 9/50\n",
            "52/52 [==============================] - 1s 11ms/step - loss: 2.1810 - accuracy: 0.6791\n",
            "Epoch 10/50\n",
            "52/52 [==============================] - 1s 17ms/step - loss: 1.7499 - accuracy: 0.7584\n",
            "Epoch 11/50\n",
            "52/52 [==============================] - 1s 17ms/step - loss: 1.4001 - accuracy: 0.8275\n",
            "Epoch 12/50\n",
            "52/52 [==============================] - 1s 17ms/step - loss: 1.1136 - accuracy: 0.8846\n",
            "Epoch 13/50\n",
            "52/52 [==============================] - 1s 11ms/step - loss: 0.8896 - accuracy: 0.9129\n",
            "Epoch 14/50\n",
            "52/52 [==============================] - 1s 11ms/step - loss: 0.7163 - accuracy: 0.9447\n",
            "Epoch 15/50\n",
            "52/52 [==============================] - 1s 11ms/step - loss: 0.5807 - accuracy: 0.9537\n",
            "Epoch 16/50\n",
            "52/52 [==============================] - 1s 11ms/step - loss: 0.4745 - accuracy: 0.9651\n",
            "Epoch 17/50\n",
            "52/52 [==============================] - 1s 10ms/step - loss: 0.3924 - accuracy: 0.9760\n",
            "Epoch 18/50\n",
            "52/52 [==============================] - 1s 10ms/step - loss: 0.3287 - accuracy: 0.9772\n",
            "Epoch 19/50\n",
            "52/52 [==============================] - 1s 10ms/step - loss: 0.2758 - accuracy: 0.9844\n",
            "Epoch 20/50\n",
            "52/52 [==============================] - 1s 10ms/step - loss: 0.2339 - accuracy: 0.9868\n",
            "Epoch 21/50\n",
            "52/52 [==============================] - 1s 10ms/step - loss: 0.2020 - accuracy: 0.9874\n",
            "Epoch 22/50\n",
            "52/52 [==============================] - 1s 11ms/step - loss: 0.1756 - accuracy: 0.9898\n",
            "Epoch 23/50\n",
            "52/52 [==============================] - 1s 10ms/step - loss: 0.1549 - accuracy: 0.9862\n",
            "Epoch 24/50\n",
            "52/52 [==============================] - 1s 10ms/step - loss: 0.1361 - accuracy: 0.9874\n",
            "Epoch 25/50\n",
            "52/52 [==============================] - 1s 11ms/step - loss: 0.1237 - accuracy: 0.9874\n",
            "Epoch 26/50\n",
            "52/52 [==============================] - 1s 10ms/step - loss: 0.1116 - accuracy: 0.9892\n",
            "Epoch 27/50\n",
            "52/52 [==============================] - 1s 11ms/step - loss: 0.1020 - accuracy: 0.9868\n",
            "Epoch 28/50\n",
            "52/52 [==============================] - 1s 10ms/step - loss: 0.0922 - accuracy: 0.9868\n",
            "Epoch 29/50\n",
            "52/52 [==============================] - 1s 11ms/step - loss: 0.0860 - accuracy: 0.9862\n",
            "Epoch 30/50\n",
            "52/52 [==============================] - 1s 10ms/step - loss: 0.0801 - accuracy: 0.9886\n",
            "Epoch 31/50\n",
            "52/52 [==============================] - 1s 16ms/step - loss: 0.0741 - accuracy: 0.9874\n",
            "Epoch 32/50\n",
            "52/52 [==============================] - 1s 16ms/step - loss: 0.0687 - accuracy: 0.9880\n",
            "Epoch 33/50\n",
            "52/52 [==============================] - 1s 17ms/step - loss: 0.0653 - accuracy: 0.9880\n",
            "Epoch 34/50\n",
            "52/52 [==============================] - 1s 14ms/step - loss: 0.0603 - accuracy: 0.9886\n",
            "Epoch 35/50\n",
            "52/52 [==============================] - 1s 10ms/step - loss: 0.0575 - accuracy: 0.9874\n",
            "Epoch 36/50\n",
            "52/52 [==============================] - 1s 11ms/step - loss: 0.0537 - accuracy: 0.9892\n",
            "Epoch 37/50\n",
            "52/52 [==============================] - 1s 10ms/step - loss: 0.0520 - accuracy: 0.9874\n",
            "Epoch 38/50\n",
            "52/52 [==============================] - 1s 11ms/step - loss: 0.0487 - accuracy: 0.9868\n",
            "Epoch 39/50\n",
            "52/52 [==============================] - 1s 10ms/step - loss: 0.0474 - accuracy: 0.9886\n",
            "Epoch 40/50\n",
            "52/52 [==============================] - 1s 10ms/step - loss: 0.0463 - accuracy: 0.9868\n",
            "Epoch 41/50\n",
            "52/52 [==============================] - 1s 10ms/step - loss: 0.0429 - accuracy: 0.9886\n",
            "Epoch 42/50\n",
            "52/52 [==============================] - 1s 10ms/step - loss: 0.0416 - accuracy: 0.9868\n",
            "Epoch 43/50\n",
            "52/52 [==============================] - 1s 10ms/step - loss: 0.0407 - accuracy: 0.9886\n",
            "Epoch 44/50\n",
            "52/52 [==============================] - 1s 11ms/step - loss: 0.0392 - accuracy: 0.9880\n",
            "Epoch 45/50\n",
            "52/52 [==============================] - 1s 11ms/step - loss: 0.0373 - accuracy: 0.9880\n",
            "Epoch 46/50\n",
            "52/52 [==============================] - 1s 10ms/step - loss: 0.0369 - accuracy: 0.9898\n",
            "Epoch 47/50\n",
            "52/52 [==============================] - 1s 11ms/step - loss: 0.0360 - accuracy: 0.9880\n",
            "Epoch 48/50\n",
            "52/52 [==============================] - 1s 11ms/step - loss: 0.0341 - accuracy: 0.9892\n",
            "Epoch 49/50\n",
            "52/52 [==============================] - 1s 11ms/step - loss: 0.0335 - accuracy: 0.9892\n",
            "Epoch 50/50\n",
            "52/52 [==============================] - 1s 11ms/step - loss: 0.0321 - accuracy: 0.9880\n"
          ]
        }
      ]
    },
    {
      "cell_type": "code",
      "source": [
        "def buildPhrase(texts, str_len=20):\n",
        "    res = texts\n",
        "    data = tokenizer.texts_to_sequences([texts])[0]\n",
        "    for i in range(str_len):\n",
        "        # x = to_categorical(data[i: i + inp_words], num_classes=maxWordsCount)  # преобразуем в One-Hot-encoding\n",
        "        # inp = x.reshape(1, inp_words, maxWordsCount)\n",
        "        x = data[i: i + inp_words]\n",
        "        inp = np.expand_dims(x, axis=0)\n",
        "\n",
        "        pred = model.predict(inp)\n",
        "        indx = pred.argmax(axis=1)[0]\n",
        "        data.append(indx)\n",
        "\n",
        "        res += \" \" + tokenizer.index_word[indx]  # дописываем строку\n",
        "\n",
        "    return res\n",
        "\n",
        "\n",
        "res = buildPhrase(\"позитив добавляет годы\")\n",
        "print(res)"
      ],
      "metadata": {
        "colab": {
          "base_uri": "https://localhost:8080/"
        },
        "id": "BI8nbZsTAAZG",
        "outputId": "c8ac9e19-f790-4dd1-8de3-80ba816083df"
      },
      "execution_count": 12,
      "outputs": [
        {
          "output_type": "stream",
          "name": "stdout",
          "text": [
            "1/1 [==============================] - 0s 199ms/step\n",
            "1/1 [==============================] - 0s 23ms/step\n",
            "1/1 [==============================] - 0s 28ms/step\n",
            "1/1 [==============================] - 0s 25ms/step\n",
            "1/1 [==============================] - 0s 37ms/step\n",
            "1/1 [==============================] - 0s 25ms/step\n",
            "1/1 [==============================] - 0s 23ms/step\n",
            "1/1 [==============================] - 0s 26ms/step\n",
            "1/1 [==============================] - 0s 23ms/step\n",
            "1/1 [==============================] - 0s 23ms/step\n",
            "1/1 [==============================] - 0s 22ms/step\n",
            "1/1 [==============================] - 0s 23ms/step\n",
            "1/1 [==============================] - 0s 23ms/step\n",
            "1/1 [==============================] - 0s 24ms/step\n",
            "1/1 [==============================] - 0s 25ms/step\n",
            "1/1 [==============================] - 0s 24ms/step\n",
            "1/1 [==============================] - 0s 28ms/step\n",
            "1/1 [==============================] - 0s 23ms/step\n",
            "1/1 [==============================] - 0s 24ms/step\n",
            "1/1 [==============================] - 0s 24ms/step\n",
            "позитив добавляет годы вторым вашей жизни позитивность к вашему вокруг искорку в защитит глазах есть стрелы важны всегда вы можете поэтому позитивный выбор\n"
          ]
        }
      ]
    }
  ]
}